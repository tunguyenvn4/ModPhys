{
 "cells": [
  {
   "cell_type": "code",
   "execution_count": 17,
   "metadata": {},
   "outputs": [],
   "source": [
    "import numpy as np"
   ]
  },
  {
   "cell_type": "code",
   "execution_count": 14,
   "metadata": {},
   "outputs": [
    {
     "name": "stdout",
     "output_type": "stream",
     "text": [
      "0.2 280 300 1.4 0.005000000000000001\n"
     ]
    }
   ],
   "source": [
    "#open file for parameters\n",
    "variables = {}\n",
    "\n",
    "with open(\"values.txt\") as f:\n",
    "    for line in f:\n",
    "        name, value = line.split(\"=\")\n",
    "        variables[name] = float(value)\n",
    "#pass in the values\n",
    "distance = variables[\"distance\"] #assuming we use a square, it is the distance between T_left and T_right\n",
    "T_left = variables[\"T_left\"] \n",
    "T_right = variables[\"T_right\"]\n",
    "k = variables[\"k\"] #thermal conductivity\n",
    "hx = hy = distance/2 #divide nodes\n",
    "#initial boundary condition\n",
    "T_right = 300\n",
    "T_left = 280\n",
    "A = hx*hy/2 #area of the trianglular element\n",
    "print(distance,T_left,T_right,k,A)"
   ]
  },
  {
   "cell_type": "code",
   "execution_count": 19,
   "metadata": {},
   "outputs": [
    {
     "name": "stdout",
     "output_type": "stream",
     "text": [
      "[[ 35.  -17.5   0.  -17.5   0.    0.    0.    0.    0. ]\n",
      " [-17.5  70.  -17.5   0.  -35.    0.    0.    0.    0. ]\n",
      " [  0.  -17.5  35.    0.    0.  -17.5   0.    0.    0. ]\n",
      " [-17.5   0.    0.   70.  -35.    0.  -17.5   0.    0. ]\n",
      " [  0.  -35.    0.  -35.  140.  -35.    0.  -35.    0. ]\n",
      " [  0.    0.  -17.5   0.  -35.   70.    0.    0.  -17.5]\n",
      " [  0.    0.    0.  -17.5   0.    0.   35.  -17.5   0. ]\n",
      " [  0.    0.    0.    0.  -35.    0.  -17.5  70.  -17.5]\n",
      " [  0.    0.    0.    0.  -17.5 -17.5   0.  -17.5  35. ]]\n"
     ]
    }
   ],
   "source": [
    "K_tri = np.array([[1,-0.5,0,-0.5,0,0,0,0,0],\n",
    "         [-0.5,2,-0.5,0,-1,0,0,0,0],\n",
    "         [0,-0.5,1,0,0,-0.5,0,0,0],\n",
    "         [-0.5,0,0,2,-1,0,-1/2,0,0],\n",
    "         [0,-1,0,-1,4,-1,0,-1,0],\n",
    "         [0,0,-0.5,0,-1,2,0,0,-0.5],\n",
    "         [0,0,0,-0.5,0,0,1,-0.5,0],\n",
    "         [0,0,0,0,-1,0,-0.5,2,-0.5],\n",
    "         [0,0,0,0,-0.5,-0.5,0,-0.5,1]])*k/8/A\n",
    "print(K_tri) #local matrix K for the triangular element"
   ]
  },
  {
   "cell_type": "code",
   "execution_count": 20,
   "metadata": {},
   "outputs": [
    {
     "data": {
      "text/plain": [
       "array([[  1. ,   0. ,   0. ,   0. ,   0. ,   0. ,   0. ,   0. ,   0. ],\n",
       "       [-17.5,  70. , -17.5,   0. , -35. ,   0. ,   0. ,   0. ,   0. ],\n",
       "       [  0. ,   0. ,   1. ,   0. ,   0. ,   0. ,   0. ,   0. ,   0. ],\n",
       "       [  0. ,   0. ,   0. ,   1. ,   0. ,   0. ,   0. ,   0. ,   0. ],\n",
       "       [  0. , -35. ,   0. , -35. , 140. , -35. ,   0. , -35. ,   0. ],\n",
       "       [  0. ,   0. ,   0. ,   0. ,   0. ,   1. ,   0. ,   0. ,   0. ],\n",
       "       [  0. ,   0. ,   0. ,   0. ,   0. ,   0. ,   1. ,   0. ,   0. ],\n",
       "       [  0. ,   0. ,   0. ,   0. , -35. ,   0. , -17.5,  70. , -17.5],\n",
       "       [  0. ,   0. ,   0. ,   0. ,   0. ,   0. ,   0. ,   0. ,   1. ]])"
      ]
     },
     "execution_count": 20,
     "metadata": {},
     "output_type": "execute_result"
    }
   ],
   "source": [
    "F = np.zeros((9,1)) #result matrix F, considering also the boundary condition\n",
    "F[0] = 280\n",
    "K_tri[0,:] = 0\n",
    "K_tri[0,0] = 1\n",
    "F[3] = 280\n",
    "K_tri[3,:] = 0\n",
    "K_tri[3,3] = 1\n",
    "F[6] = 280\n",
    "K_tri[6,:] = 0\n",
    "K_tri[6,6] = 1\n",
    "F[2] = 300\n",
    "K_tri[2,:] = 0\n",
    "K_tri[2,2] = 1\n",
    "F[5] = 300\n",
    "K_tri[5,:] = 0\n",
    "K_tri[5,5] = 1\n",
    "F[8] = 300\n",
    "K_tri[8,:] = 0\n",
    "K_tri[8,8] = 1\n",
    "K_tri"
   ]
  },
  {
   "cell_type": "code",
   "execution_count": 21,
   "metadata": {},
   "outputs": [
    {
     "data": {
      "text/plain": [
       "array([[280., 290., 300.],\n",
       "       [280., 290., 300.],\n",
       "       [280., 290., 300.]])"
      ]
     },
     "execution_count": 21,
     "metadata": {},
     "output_type": "execute_result"
    }
   ],
   "source": [
    "U = np.dot(np.linalg.pinv(K_tri), F) #We have K*U = F, this is the formula to calculate U\n",
    "U = U.reshape((3,3))\n",
    "U"
   ]
  },
  {
   "cell_type": "code",
   "execution_count": 24,
   "metadata": {},
   "outputs": [],
   "source": [
    "np.savetxt(\"result_tri\",U) #save file"
   ]
  },
  {
   "cell_type": "code",
   "execution_count": 25,
   "metadata": {},
   "outputs": [],
   "source": [
    "#matrix K using rectangular finite elements\n",
    "def tri_subK_matrix(A, b1, b2, b3, c1, c2, c3):\n",
    "    A_14 = 1/4/A\n",
    "    K11 = A_14*(b1**2+c1**2)\n",
    "    K12 = A_14*(b1*b2+c1*c2)\n",
    "    K13 = A_14*(b1*b3+c1*c3)\n",
    "    K23 = A_14*(b2*b3+c2*c3)\n",
    "    K22 = A_14*(b2**2+c2**2)\n",
    "    K33 = A_14*(b3**2+c3**2)\n",
    "    return [K11,K12,K13,K23,K22,K33]\n",
    "\n",
    "def tri_K_matrix(A, b1, b2, b3, c1, c2, c3):\n",
    "    A_14 = 1/4/A\n",
    "    K11 = A_14*(b1**2+c1**2)\n",
    "    K12 = A_14*(b1*b2+c1*c2)\n",
    "    K13 = A_14*(b1*b3+c1*c3)\n",
    "    K23 = A_14*(b2*b3+c2*c3)\n",
    "    K22 = A_14*(b2**2+c2**2)\n",
    "    K33 = A_14*(b3**2+c3**2)\n",
    "    return [K11,K12,K13,K23,K22,K33]"
   ]
  },
  {
   "cell_type": "code",
   "execution_count": 26,
   "metadata": {},
   "outputs": [],
   "source": [
    "#matrix K using rectangular finite elements\n",
    "def rec_K_matrix(hx, hy):\n",
    "    K11 = (hx**2+hy**2)/hx/hy/3 # K22,K33,K44\n",
    "    K12 = (hx**2-2*hy**2)/hx/hy/6 # K21,K34,K43\n",
    "    K13 = -(hx**2+hy**2)/hx/hy/6 # K31,K24,K42\n",
    "    K14 = -(2*hx**2-hy**2)/hx/hy/6 # K41,K23,K32\n",
    "    return K11,K12,K13,K14\n",
    "\n",
    "#insert correct index into final K matrix\n",
    "def fill_index(a,b,c,d):\n",
    "    K = np.zeros((9,9))\n",
    "    A,B,C,D = rec_K_matrix(hx,hy)\n",
    "    K[a,a] = K[b,b] = K[c,c] = K[d,d] = A\n",
    "    K[a,b] = K[b,a] = K[c,d] = K[d,c] = B\n",
    "    K[a,c] = K[c,a] = K[b,d] = K[d,b] = C\n",
    "    K[a,d] = K[d,a] = K[b,c] = K[c,b] = D\n",
    "    return K"
   ]
  },
  {
   "cell_type": "code",
   "execution_count": 27,
   "metadata": {},
   "outputs": [
    {
     "data": {
      "text/plain": [
       "array([[ 1.        ,  0.        ,  0.        ,  0.        ,  0.        ,\n",
       "         0.        ,  0.        ,  0.        ,  0.        ],\n",
       "       [-0.23333333,  1.86666667, -0.23333333, -0.46666667, -0.46666667,\n",
       "        -0.46666667,  0.        ,  0.        ,  0.        ],\n",
       "       [ 0.        ,  0.        ,  1.        ,  0.        ,  0.        ,\n",
       "         0.        ,  0.        ,  0.        ,  0.        ],\n",
       "       [ 0.        ,  0.        ,  0.        ,  1.        ,  0.        ,\n",
       "         0.        ,  0.        ,  0.        ,  0.        ],\n",
       "       [-0.46666667, -0.46666667, -0.46666667, -0.46666667,  3.73333333,\n",
       "        -0.46666667, -0.46666667, -0.46666667, -0.46666667],\n",
       "       [ 0.        ,  0.        ,  0.        ,  0.        ,  0.        ,\n",
       "         1.        ,  0.        ,  0.        ,  0.        ],\n",
       "       [ 0.        ,  0.        ,  0.        ,  0.        ,  0.        ,\n",
       "         0.        ,  1.        ,  0.        ,  0.        ],\n",
       "       [ 0.        ,  0.        ,  0.        , -0.46666667, -0.46666667,\n",
       "        -0.46666667, -0.23333333,  1.86666667, -0.23333333],\n",
       "       [ 0.        ,  0.        ,  0.        ,  0.        ,  0.        ,\n",
       "         0.        ,  0.        ,  0.        ,  1.        ]])"
      ]
     },
     "execution_count": 27,
     "metadata": {},
     "output_type": "execute_result"
    }
   ],
   "source": [
    "#each call of the function \"fill_index\" represents one rectangular element\n",
    "#the index a,b,c,d based on the index of the nodes in the lecture\n",
    "K_rec = k*(fill_index(0,1,4,3) +  fill_index(1,2,5,4) +  fill_index(3,4,7,6) +  fill_index(4,5,8,7))\n",
    "F = np.zeros((9,1)) #similar function F considering the boundary condition\n",
    "F[0] = 280\n",
    "K_rec[0,:] = 0\n",
    "K_rec[0,0] = 1\n",
    "F[3] = 280\n",
    "K_rec[3,:] = 0\n",
    "K_rec[3,3] = 1\n",
    "F[6] = 280\n",
    "K_rec[6,:] = 0\n",
    "K_rec[6,6] = 1\n",
    "F[2] = 300\n",
    "K_rec[2,:] = 0\n",
    "K_rec[2,2] = 1\n",
    "F[5] = 300\n",
    "K_rec[5,:] = 0\n",
    "K_rec[5,5] = 1\n",
    "F[8] = 300\n",
    "K_rec[8,:] = 0\n",
    "K_rec[8,8] = 1\n",
    "K_rec"
   ]
  },
  {
   "cell_type": "code",
   "execution_count": 29,
   "metadata": {},
   "outputs": [],
   "source": [
    "U_rec = np.dot(np.linalg.pinv(K_rec), F)\n",
    "U_rec = U_rec.reshape((3,3))\n",
    "np.savetxt(\"result_rec\",U_rec)"
   ]
  }
 ],
 "metadata": {
  "kernelspec": {
   "display_name": "base",
   "language": "python",
   "name": "python3"
  },
  "language_info": {
   "codemirror_mode": {
    "name": "ipython",
    "version": 3
   },
   "file_extension": ".py",
   "mimetype": "text/x-python",
   "name": "python",
   "nbconvert_exporter": "python",
   "pygments_lexer": "ipython3",
   "version": "3.9.12"
  }
 },
 "nbformat": 4,
 "nbformat_minor": 2
}
